{
  "cells": [
    {
      "cell_type": "code",
      "execution_count": null,
      "metadata": {
        "id": "G5HpFnOnvIqv"
      },
      "outputs": [],
      "source": [
        "#importing libraries\n",
        "import os\n",
        "from keras.models import Model\n",
        "from keras.optimizers import Adam\n",
        "from keras.applications.vgg16 import VGG16, preprocess_input\n",
        "from keras.applications.xception import Xception, preprocess_input\n",
        "from keras.applications.inception_v3 import InceptionV3\n",
        "from keras.preprocessing.image import ImageDataGenerator\n",
        "from keras.callbacks import ModelCheckpoint, EarlyStopping\n",
        "from keras.layers import Dense, Dropout, Flatten\n",
        "from pathlib import Path\n",
        "import numpy as np"
      ]
    },
    {
      "cell_type": "code",
      "execution_count": null,
      "metadata": {
        "colab": {
          "base_uri": "https://localhost:8080/"
        },
        "id": "ReNSpMfb6cGp",
        "outputId": "9d20c158-7a03-419c-8ba7-1c5cca21e034"
      },
      "outputs": [],
      "source": [
        "from google.colab import drive\n",
        "drive.mount('/content/drive')"
      ]
    },
    {
      "attachments": {},
      "cell_type": "markdown",
      "metadata": {
        "id": "2Ut0Nviwlqc-"
      },
      "source": [
        "Image preprocessing [1]"
      ]
    },
    {
      "cell_type": "code",
      "execution_count": null,
      "metadata": {
        "id": "WmTlGygvvIq1"
      },
      "outputs": [],
      "source": [
        "BATCH_SIZE = 64\n",
        "\n",
        "train_generator = ImageDataGenerator(rotation_range=90, \n",
        "                                     brightness_range=[0.1, 0.7],\n",
        "                                     width_shift_range=0.5, \n",
        "                                     height_shift_range=0.5,\n",
        "                                     horizontal_flip=True, \n",
        "                                     vertical_flip=True,\n",
        "                                     validation_split=0.15,\n",
        "                                     preprocessing_function=preprocess_input) \n",
        "#I have used 15 percent of data for validation\n",
        "\n",
        "test_generator = ImageDataGenerator(preprocessing_function=preprocess_input) "
      ]
    },
    {
      "cell_type": "code",
      "execution_count": null,
      "metadata": {
        "colab": {
          "base_uri": "https://localhost:8080/"
        },
        "id": "vkBK9AejvIq2",
        "outputId": "65043a1a-58bd-4257-9fe2-968a451609de"
      },
      "outputs": [],
      "source": [
        "#Loading images from directories\n",
        "train_data_dir = \" \" #example file path: /content/drive/MyDrive/TrainingImages\n",
        "test_data_dir = \"  \"\n",
        "\n",
        "#Creating directory iterators for training, validation and testing\n",
        "traingen = train_generator.flow_from_directory(train_data_dir,\n",
        "                                               target_size=(224, 224),\n",
        "                                               class_mode='categorical',                                               \n",
        "                                               subset='training',\n",
        "                                               batch_size=BATCH_SIZE, \n",
        "                                               shuffle=True,\n",
        "                                               seed=42)\n",
        "\n",
        "validgen = train_generator.flow_from_directory(train_data_dir,\n",
        "                                               target_size=(224, 224),\n",
        "                                               class_mode='categorical',                                              \n",
        "                                               subset='validation',\n",
        "                                               batch_size=BATCH_SIZE,\n",
        "                                               shuffle=True,\n",
        "                                               seed=42)\n",
        "\n",
        "testgen = test_generator.flow_from_directory(test_data_dir,\n",
        "                                             target_size=(224, 224),\n",
        "                                             class_mode=None,                                             \n",
        "                                             batch_size=1,\n",
        "                                             shuffle=False,\n",
        "                                             seed=42)"
      ]
    },
    {
      "attachments": {},
      "cell_type": "markdown",
      "metadata": {
        "id": "DHX1N9CUn3VA"
      },
      "source": [
        "Model Creation [2]"
      ]
    },
    {
      "cell_type": "code",
      "execution_count": null,
      "metadata": {
        "id": "2Be7-2K0vIq4"
      },
      "outputs": [],
      "source": [
        "def cnn_model(input_shape, n_classes, optimizer='rmsprop', fine_tune=0):\n",
        "\n",
        "    # conv_base = InceptionV3(\n",
        "    #     include_top=False,\n",
        "    #     weights=\"imagenet\",\n",
        "    #     input_shape=input_shape\n",
        "    #     )\n",
        "\n",
        "    conv_base = Xception(\n",
        "        include_top=False,\n",
        "        weights=\"imagenet\",\n",
        "        input_shape=input_shape\n",
        "        )\n",
        "\n",
        "#     conv_base = VGG16(\n",
        "#         include_top=False,\n",
        "#         weights=\"imagenet\",\n",
        "#         input_shape=input_shape\n",
        "#         )\n",
        "\n",
        "#code to switch the layers between trainable and non-trainable\n",
        "\n",
        "    if fine_tune > 0:\n",
        "        for layer in conv_base.layers[:-fine_tune]:\n",
        "            layer.trainable = False\n",
        "    else:\n",
        "        for layer in conv_base.layers:\n",
        "            layer.trainable = False\n",
        "\n",
        "#Creating a new fully connected top model \n",
        "\n",
        "    top_model = conv_base.output\n",
        "    top_model = Flatten(name=\"flatten\")(top_model)\n",
        "    top_model = Dense(4096, activation='relu')(top_model)\n",
        "    top_model = Dense(1072, activation='relu')(top_model)\n",
        "    top_model = Dropout(0.2)(top_model)\n",
        "    output_layer = Dense(n_classes, activation='softmax')(top_model)\n",
        "    \n",
        "# Grouping the convolutional base and new fully-connected layers into a Model object.\n",
        "\n",
        "    model = Model(inputs=conv_base.input, outputs=output_layer)\n",
        "\n",
        "# Compiling the model for training\n",
        "\n",
        "    model.compile(optimizer=optimizer, \n",
        "                  loss='categorical_crossentropy',\n",
        "                  metrics=['accuracy'])\n",
        "    \n",
        "    return model"
      ]
    },
    {
      "attachments": {},
      "cell_type": "markdown",
      "metadata": {
        "id": "cNgcl2f1rG_-"
      },
      "source": [
        "Model training with no fine tuning (excercing a pretrained model behavior)"
      ]
    },
    {
      "cell_type": "code",
      "execution_count": null,
      "metadata": {
        "colab": {
          "base_uri": "https://localhost:8080/"
        },
        "id": "0Jk85jinvIq5",
        "outputId": "0cf527ad-dce0-489c-f625-9b4413d4ab38"
      },
      "outputs": [],
      "source": [
        "input_shape = (224, 224, 3)\n",
        "optim_1 = Adam(learning_rate=0.001)\n",
        "n_classes=16\n",
        "\n",
        "n_steps = traingen.samples // BATCH_SIZE\n",
        "n_val_steps = validgen.samples // BATCH_SIZE\n",
        "n_epochs = 15\n",
        "\n",
        "model = cnn_model(input_shape, n_classes, optim_1, fine_tune=0)"
      ]
    },
    {
      "attachments": {},
      "cell_type": "markdown",
      "metadata": {
        "id": "QREMS03BsNP7"
      },
      "source": [
        "Setting up liveloss plot [3]"
      ]
    },
    {
      "cell_type": "code",
      "execution_count": null,
      "metadata": {
        "colab": {
          "base_uri": "https://localhost:8080/"
        },
        "id": "kPBMPFOS4BpM",
        "outputId": "a3205f65-8c5a-4391-99e5-b1728d2f1890"
      },
      "outputs": [],
      "source": [
        "pip install livelossplot"
      ]
    },
    {
      "cell_type": "code",
      "execution_count": null,
      "metadata": {
        "id": "XYq5PLjxvIq6"
      },
      "outputs": [],
      "source": [
        "from livelossplot.inputs.keras import PlotLossesCallback\n",
        "\n",
        "# EarlyStopping\n",
        "early_stop = EarlyStopping(monitor='val_loss',\n",
        "                           patience=10,\n",
        "                           restore_best_weights=True,\n",
        "                           mode='min')"
      ]
    },
    {
      "cell_type": "code",
      "execution_count": null,
      "metadata": {
        "colab": {
          "base_uri": "https://localhost:8080/",
          "height": 943
        },
        "id": "6WEiNvkTvIq6",
        "outputId": "46b323e3-e5c8-411e-ec34-3ef1c4ab4b69"
      },
      "outputs": [],
      "source": [
        "%%time \n",
        "plot_loss_1 = PlotLossesCallback()\n",
        "\n",
        "history = model.fit(traingen,\n",
        "                            batch_size=BATCH_SIZE,\n",
        "                            epochs=n_epochs,\n",
        "                            validation_data=validgen,\n",
        "                            steps_per_epoch=n_steps,\n",
        "                            validation_steps=n_val_steps,\n",
        "                            callbacks=[plot_loss_1, early_stop],\n",
        "                            )"
      ]
    },
    {
      "cell_type": "code",
      "execution_count": null,
      "metadata": {
        "colab": {
          "base_uri": "https://localhost:8080/"
        },
        "id": "cZlW1OifvIq7",
        "outputId": "48ea1481-8d35-4e35-c58b-a66d9385df97"
      },
      "outputs": [],
      "source": [
        "#Generating predictions [4]\n",
        "true_classes = testgen.classes\n",
        "class_indices = traingen.class_indices\n",
        "class_indices = dict((v,k) for k,v in class_indices.items())\n",
        "\n",
        "test_predict = model.predict(testgen)\n",
        "test_pred_classes = np.argmax(test_predict, axis=1)"
      ]
    },
    {
      "cell_type": "code",
      "execution_count": null,
      "metadata": {
        "colab": {
          "base_uri": "https://localhost:8080/"
        },
        "id": "e_nYRTq9vIq7",
        "outputId": "5127f4ea-36ab-497f-958b-7e5771b864b5"
      },
      "outputs": [],
      "source": [
        "from sklearn.metrics import accuracy_score\n",
        "#Printing the accuracy\n",
        "test_acc = accuracy_score(true_classes, test_pred_classes)\n",
        "print(\"Model Accuracy without Fine-Tuning: {:.2f}%\".format(test_acc * 100))"
      ]
    },
    {
      "attachments": {},
      "cell_type": "markdown",
      "metadata": {
        "id": "AoUJOjht6OGt"
      },
      "source": [
        "Model training with fine tuning"
      ]
    },
    {
      "cell_type": "code",
      "execution_count": null,
      "metadata": {
        "colab": {
          "base_uri": "https://localhost:8080/"
        },
        "id": "WLD95RSdC3KS",
        "outputId": "ecef70b9-f733-40b9-d514-58e877e387d5"
      },
      "outputs": [],
      "source": [
        "# Resetting our image data generators\n",
        "traingen.reset()\n",
        "validgen.reset()\n",
        "testgen.reset()\n",
        "\n",
        "# Using a smaller learning rate\n",
        "optim_2 = Adam(lr=0.0001)\n",
        "\n",
        "# Re-compiling the model leaving the last 2 layers unfrozen for Fine-Tuning\n",
        "model_ft = cnn_model(input_shape, n_classes, optim_2, fine_tune=2)"
      ]
    },
    {
      "cell_type": "code",
      "execution_count": null,
      "metadata": {
        "id": "RkqgGUnMrzaR"
      },
      "outputs": [],
      "source": [
        "# #this part is left for testing\n",
        "# input_shape = (224, 224, 3)\n",
        "# optim_1 = Adam(learning_rate=0.001)\n",
        "# n_classes=16\n",
        "\n",
        "# n_steps = traingen.samples // BATCH_SIZE\n",
        "# n_val_steps = validgen.samples // BATCH_SIZE\n",
        "# n_epochs = 15\n",
        "\n",
        "# optim_3 = Adam(lr=0.00001)\n",
        "\n",
        "# model_ft3 = cnn_model(input_shape, n_classes, optim_3, fine_tune=2)"
      ]
    },
    {
      "cell_type": "code",
      "execution_count": null,
      "metadata": {
        "colab": {
          "base_uri": "https://localhost:8080/",
          "height": 943
        },
        "id": "pD3nPzBpC478",
        "outputId": "f267d190-937f-4f80-9c5e-23df8dcbb539"
      },
      "outputs": [],
      "source": [
        "%%time\n",
        "\n",
        "plot_loss_2 = PlotLossesCallback()\n",
        "\n",
        "# Retrain model with fine-tuning\n",
        "history_ft = model_ft.fit(traingen,\n",
        "                                  batch_size=BATCH_SIZE,\n",
        "                                  epochs=n_epochs,\n",
        "                                  validation_data=validgen,\n",
        "                                  steps_per_epoch=n_steps, \n",
        "                                  validation_steps=n_val_steps,\n",
        "                                  callbacks=[plot_loss_2, early_stop],\n",
        "                                  verbose=1)"
      ]
    },
    {
      "cell_type": "code",
      "execution_count": null,
      "metadata": {
        "colab": {
          "base_uri": "https://localhost:8080/"
        },
        "id": "KNi3kRVfGKqw",
        "outputId": "8891d115-85e0-4d94-9522-8b8eaf72097a"
      },
      "outputs": [],
      "source": [
        "#Generating model predictions\n",
        "test_predict_ft = model_ft.predict(testgen)\n",
        "pred_classes_ft = np.argmax(test_predict_ft, axis=1)"
      ]
    },
    {
      "cell_type": "code",
      "execution_count": null,
      "metadata": {
        "colab": {
          "base_uri": "https://localhost:8080/"
        },
        "id": "fjhXqhkiGfyg",
        "outputId": "0690fc7c-5bd0-4a79-8371-c93779014d82"
      },
      "outputs": [],
      "source": [
        "#printing the accuracy results\n",
        "from sklearn.metrics import accuracy_score\n",
        "\n",
        "true_classes = testgen.classes\n",
        "class_indices = traingen.class_indices\n",
        "class_indices = dict((v,k) for k,v in class_indices.items())\n",
        "\n",
        "\n",
        "model_acc_ft = accuracy_score(true_classes,pred_classes_ft)\n",
        "print(\"Model Accuracy with Fine-Tuning: {:.2f}%\".format(model_acc_ft * 100))"
      ]
    },
    {
      "cell_type": "code",
      "execution_count": null,
      "metadata": {
        "colab": {
          "base_uri": "https://localhost:8080/"
        },
        "id": "BZO9AcP431_5",
        "outputId": "3c4d5472-ed24-402c-f6ed-403deca1e339"
      },
      "outputs": [],
      "source": [
        "#Predicting and Saving it as a CSV file\n",
        "import pandas as pd\n",
        "y_pred = model_ft.predict(testgen)\n",
        "y_pred = np.argmax(y_pred, axis=1)\n",
        "y_pred = pd.Series(y_pred, name='Class')\n",
        "sub = pd.concat([pd.Series(range(1, 482), name=\"Id\"), y_pred], axis=1)\n",
        "sub.to_csv(\"/content/drive/MyDrive/CollabFiles/test2.csv\", index=False)"
      ]
    },
    {
      "attachments": {},
      "cell_type": "markdown",
      "metadata": {
        "id": "Wgnq0sRltdW3"
      },
      "source": [
        "**References:**\n",
        "\n",
        "[1]https://www.tensorflow.org/api_docs/python/tf/keras/preprocessing/image/ImageDataGenerator\n",
        "[1]https://www.analyticsvidhya.com/blog/2021/01/building-a-cnn-model-with-95-accuracy/\n",
        "[2]https://keras.io/api/applications/#finetune-inceptionv3-on-a-new-set-of-classes\n",
        "[3]https://pypi.org/project/livelossplot/\n",
        "[4]https://www.learndatasci.com/tutorials/hands-on-transfer-learning-keras/"
      ]
    }
  ],
  "metadata": {
    "accelerator": "GPU",
    "colab": {
      "provenance": []
    },
    "gpuClass": "standard",
    "kernelspec": {
      "display_name": "Python 3",
      "language": "python",
      "name": "python3"
    },
    "language_info": {
      "codemirror_mode": {
        "name": "ipython",
        "version": 3
      },
      "file_extension": ".py",
      "mimetype": "text/x-python",
      "name": "python",
      "nbconvert_exporter": "python",
      "pygments_lexer": "ipython3",
      "version": "3.11.1"
    }
  },
  "nbformat": 4,
  "nbformat_minor": 0
}
